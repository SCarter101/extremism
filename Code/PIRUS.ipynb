{
 "cells": [
  {
   "cell_type": "markdown",
   "source": [
    "## Getting Started\n",
    "### Data Exploration and Analysis"
   ],
   "metadata": {
    "collapsed": false
   },
   "id": "e80208999df532d2"
  },
  {
   "cell_type": "code",
   "execution_count": 20,
   "outputs": [],
   "source": [
    "import pandas as pd\n",
    "from pandasgui import show\n",
    "import matplotlib.pyplot as plt\n",
    "\n",
    "prs = pd.read_excel('PIRUS_V4.xlsx', index_col=0)"
   ],
   "metadata": {
    "collapsed": false,
    "ExecuteTime": {
     "end_time": "2023-09-18T23:26:08.474757200Z",
     "start_time": "2023-09-18T23:26:04.256678100Z"
    }
   },
   "id": "ae43e0959fe6702b"
  },
  {
   "cell_type": "code",
   "execution_count": 2,
   "outputs": [
    {
     "data": {
      "text/plain": "(3203, 129)"
     },
     "execution_count": 2,
     "metadata": {},
     "output_type": "execute_result"
    }
   ],
   "source": [
    "prs.shape"
   ],
   "metadata": {
    "collapsed": false,
    "ExecuteTime": {
     "end_time": "2023-09-18T17:01:31.424269200Z",
     "start_time": "2023-09-18T17:01:31.401318800Z"
    }
   },
   "id": "89685a572f8ec3b8"
  },
  {
   "cell_type": "markdown",
   "source": [],
   "metadata": {
    "collapsed": false
   },
   "id": "3bb702500775303a"
  },
  {
   "cell_type": "code",
   "execution_count": 6,
   "outputs": [
    {
     "data": {
      "text/plain": "<bound method NDFrame.describe of                  Loc_Plot_State1 Loc_Plot_City1 Loc_Plot_State2  \\\nSubject_ID                                                        \n1000                    Illinois        Chicago         Florida   \n1001                  California  San Francisco             NaN   \n1002                  California      Santa Ana             NaN   \n1005                    New York       New York             NaN   \n1006                    New York       New York             NaN   \n...                          ...            ...             ...   \n12147       District of Columbia     Washington             NaN   \n12148       District of Columbia     Washington             NaN   \n12149                     Oregon          Salem             NaN   \n12151                     Oregon          Salem             NaN   \n12152       District of Columbia     Washington             NaN   \n\n            Loc_Plot_City2  Year_Exposure  Plot_Target1  Plot_Target2  \\\nSubject_ID                                                              \n1000        Broward County           2002            14           NaN   \n1001                   NaN           2001           -88           NaN   \n1002                   NaN           1997           -99           NaN   \n1005                   NaN           1993             1           NaN   \n1006                   NaN           1993             1           NaN   \n...                    ...            ...           ...           ...   \n12147                  NaN           2021             2           3.0   \n12148                  NaN           2021             2           3.0   \n12149                  NaN           2021            14           NaN   \n12151                  NaN           2021            14           NaN   \n12152                  NaN           2021           -88           NaN   \n\n            Plot_Target3  Attack_Preparation  Changing_Target  ...  Trauma  \\\nSubject_ID                                                     ...           \n1000                 NaN                   1                1  ...       0   \n1001                 NaN                 -88              -88  ...     -99   \n1002                 NaN                 -99              -99  ...     -99   \n1005                 NaN                   2                0  ...       0   \n1006                 NaN                   2                0  ...     -99   \n...                  ...                 ...              ...  ...     ...   \n12147                NaN                   1                0  ...       0   \n12148                NaN                   1                0  ...       0   \n12149                NaN                 -99                0  ...       0   \n12151                NaN                 -99                0  ...       0   \n12152                NaN                 -88              -88  ...       3   \n\n            Other_Ideologies  Angry_US  Group_Grievance  Component_ID  \\\nSubject_ID                                                              \n1000                       0         0                0             6   \n1001                       0         1              -99          1525   \n1002                       0         1                1           471   \n1005                       0         1                2             9   \n1006                       0         1              -99             9   \n...                      ...       ...              ...           ...   \n12147                      0         1                0          1535   \n12148                      0         1                0            38   \n12149                      0         0                0             1   \n12151                      0         0                0             1   \n12152                      0         1                0             1   \n\n            Component_Density  Lone_Offender  Degree_Centrality  \\\nSubject_ID                                                        \n1000                 0.190000              0                  5   \n1001               -88.000000              1                  0   \n1002                 1.000000              0                  1   \n1005                 0.573099              0                  9   \n1006                 0.573099              0                  9   \n...                       ...            ...                ...   \n12147              -88.000000              1                  0   \n12148                0.527778              0                  3   \n12149                0.005436              0                  4   \n12151                0.005436              0                  4   \n12152                0.005436              0                  2   \n\n            Betweenness_Centrality  Closeness_Centrality  \nSubject_ID                                                \n1000                      0.112319              0.444444  \n1001                      0.000000              0.000000  \n1002                      0.000000              1.000000  \n1005                      0.179739              0.666667  \n1006                      0.179739              0.666667  \n...                            ...                   ...  \n12147                     0.000000              0.000000  \n12148                     0.428571              0.615385  \n12149                     0.000000              0.098882  \n12151                     0.000000              0.098882  \n12152                     0.000000              0.122570  \n\n[3203 rows x 129 columns]>"
     },
     "execution_count": 6,
     "metadata": {},
     "output_type": "execute_result"
    }
   ],
   "source": [
    "prs.describe"
   ],
   "metadata": {
    "collapsed": false,
    "ExecuteTime": {
     "end_time": "2023-09-18T00:08:28.060690600Z",
     "start_time": "2023-09-18T00:08:27.995269500Z"
    }
   },
   "id": "14f8ee97b90f9937"
  },
  {
   "cell_type": "code",
   "execution_count": 21,
   "outputs": [
    {
     "name": "stdout",
     "output_type": "stream",
     "text": [
      "<class 'pandas.core.frame.DataFrame'>\n",
      "Int64Index: 3203 entries, 1000 to 12152\n",
      "Columns: 129 entries, Loc_Plot_State1 to Closeness_Centrality\n",
      "dtypes: float64(31), int64(76), object(22)\n",
      "memory usage: 3.2+ MB\n"
     ]
    }
   ],
   "source": [
    "prs.info()"
   ],
   "metadata": {
    "collapsed": false,
    "ExecuteTime": {
     "end_time": "2023-09-18T23:26:14.068443500Z",
     "start_time": "2023-09-18T23:26:14.040443Z"
    }
   },
   "id": "1e48aad176fcffbe"
  },
  {
   "cell_type": "markdown",
   "source": [
    "### Data Cleaning"
   ],
   "metadata": {
    "collapsed": false
   },
   "id": "b7bf14e2ec9341f9"
  },
  {
   "cell_type": "code",
   "execution_count": 23,
   "outputs": [],
   "source": [
    "# Filter for white nationalists and christian nationalist ideologies \n",
    "values = [2, 5]\n",
    "\n",
    "# Drop any rows with missing 'Ideological_Sub_Category1' values\n",
    "prs = prs.dropna(subset=['Ideological_Sub_Category1'])\n",
    "\n",
    "# Filter the dataframe\n",
    "nats = prs[prs['Ideological_Sub_Category1'].isin(values)]"
   ],
   "metadata": {
    "collapsed": false,
    "ExecuteTime": {
     "end_time": "2023-09-18T23:28:07.628685600Z",
     "start_time": "2023-09-18T23:28:07.598962Z"
    }
   },
   "id": "dc42dcb217d7f273"
  },
  {
   "cell_type": "code",
   "execution_count": 24,
   "outputs": [
    {
     "data": {
      "text/plain": "(825, 129)"
     },
     "execution_count": 24,
     "metadata": {},
     "output_type": "execute_result"
    }
   ],
   "source": [
    "nats.shape"
   ],
   "metadata": {
    "collapsed": false,
    "ExecuteTime": {
     "end_time": "2023-09-18T23:28:11.397247800Z",
     "start_time": "2023-09-18T23:28:11.387160100Z"
    }
   },
   "id": "4ef28e71163cd2c9"
  },
  {
   "cell_type": "code",
   "execution_count": 32,
   "outputs": [
    {
     "name": "stderr",
     "output_type": "stream",
     "text": [
      "PandasGUI INFO — pandasgui.gui — Opening PandasGUI\n"
     ]
    },
    {
     "data": {
      "text/plain": "<pandasgui.gui.PandasGui at 0x283e962b400>"
     },
     "execution_count": 32,
     "metadata": {},
     "output_type": "execute_result"
    }
   ],
   "source": [
    "show(nats)"
   ],
   "metadata": {
    "collapsed": false,
    "ExecuteTime": {
     "end_time": "2023-09-18T23:52:02.060477800Z",
     "start_time": "2023-09-18T23:51:56.206100300Z"
    }
   },
   "id": "d02840755c8cc379"
  },
  {
   "cell_type": "code",
   "execution_count": 33,
   "outputs": [
    {
     "data": {
      "text/plain": "<Figure size 1500x500 with 2 Axes>",
      "image/png": "[encoded data removed]"
     },
     "metadata": {},
     "output_type": "display_data"
    }
   ],
   "source": [
    "fig, axs = plt.subplots(1, 2, figsize=(15, 5))\n",
    "\n",
    "# Group by \"Ideological_Sub_Category1\" and \"Radical_Behaviors\"\n",
    "grouped_behaviors = nats.groupby([\"Ideological_Sub_Category1\", \"Radical_Behaviors\"]).size()\n",
    "\n",
    "# Unstack the grouped dataframe\n",
    "unstacked_behaviors = grouped_behaviors.unstack(level=-1)\n",
    "\n",
    "# Plot the unstacked dataframe\n",
    "unstacked_behaviors.plot(kind='bar', stacked=True, ax=axs[0])\n",
    "\n",
    "axs[0].set_xlabel('Ideological Sub Category')\n",
    "axs[0].set_ylabel('Count')\n",
    "axs[0].set_title('Nationalist Movements - Radical Behaviors')\n",
    "\n",
    "# Replace the x-axis labels\n",
    "axs[0].set_xticklabels(['White' if label.get_text() == '2' else 'Christian' for label in axs[0].get_xticklabels()])\n",
    "\n",
    "# Group by \"Ideological_Sub_Category1\" and \"Radical_Beliefs\"\n",
    "grouped_beliefs = nats.groupby([\"Ideological_Sub_Category1\", \"Radical_Beliefs\"]).size()\n",
    "\n",
    "# Unstack the grouped dataframe\n",
    "unstacked_beliefs = grouped_beliefs.unstack(level=-1)\n",
    "\n",
    "# Plot the unstacked dataframe\n",
    "unstacked_beliefs.plot(kind='bar', stacked=True, ax=axs[1])\n",
    "\n",
    "axs[1].set_xlabel('Ideological Sub Category')\n",
    "axs[1].set_ylabel('Count')\n",
    "axs[1].set_title('Nationalist Movements - Radical Beliefs')\n",
    "\n",
    "# Replace the x-axis labels\n",
    "axs[1].set_xticklabels(['White' if label.get_text() == '2' else 'Christian' for label in axs[1].get_xticklabels()])\n",
    "\n",
    "plt.tight_layout()\n",
    "plt.show()"
   ],
   "metadata": {
    "collapsed": false,
    "ExecuteTime": {
     "end_time": "2023-09-18T23:52:03.793905400Z",
     "start_time": "2023-09-18T23:52:02.091141400Z"
    }
   },
   "id": "735bf4fdf834ed1f"
  },
  {
   "cell_type": "code",
   "execution_count": null,
   "outputs": [],
   "source": [],
   "metadata": {
    "collapsed": false
   },
   "id": "26a760478811845b"
  }
 ],
 "metadata": {
  "kernelspec": {
   "display_name": "Python 3",
   "language": "python",
   "name": "python3"
  },
  "language_info": {
   "codemirror_mode": {
    "name": "ipython",
    "version": 2
   },
   "file_extension": ".py",
   "mimetype": "text/x-python",
   "name": "python",
   "nbconvert_exporter": "python",
   "pygments_lexer": "ipython2",
   "version": "2.7.6"
  }
 },
 "nbformat": 4,
 "nbformat_minor": 5
}
